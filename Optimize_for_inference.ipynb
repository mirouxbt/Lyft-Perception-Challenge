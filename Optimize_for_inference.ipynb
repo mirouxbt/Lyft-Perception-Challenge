{
 "cells": [
  {
   "cell_type": "markdown",
   "metadata": {},
   "source": [
    "# Optimize for inference\n",
    "\n",
    "This notebook will optimize a frozen graph using TensorFlow transform graph functions."
   ]
  },
  {
   "cell_type": "code",
   "execution_count": 1,
   "metadata": {},
   "outputs": [],
   "source": [
    "CONFIG = {\n",
    "    # Where to save models\n",
    "    \"graphdef_file\": \"./models/keras_graphdef.pb\",\n",
    "    \"frozen_model_file\": \"./models/keras_frozen_model.pb\",\n",
    "    \"snapshot_dir\": \"./models/snapshot\",\n",
    "    \"opt_model_file\" : \"./models/keras_opt_model.pb\",\n",
    "}"
   ]
  },
  {
   "cell_type": "code",
   "execution_count": 2,
   "metadata": {},
   "outputs": [
    {
     "name": "stderr",
     "output_type": "stream",
     "text": [
      "/home/ongxa/.virtualenvs/cv/lib/python3.6/site-packages/h5py/__init__.py:36: FutureWarning: Conversion of the second argument of issubdtype from `float` to `np.floating` is deprecated. In future, it will be treated as `np.float64 == np.dtype(float).type`.\n",
      "  from ._conv import register_converters as _register_converters\n"
     ]
    }
   ],
   "source": [
    "import tensorflow as tf\n",
    "\n",
    "def load_graph_for_transform(frozen_graph_filename):\n",
    "    # We load the protobuf file from the disk and parse it to retrieve the \n",
    "    # unserialized graph_def\n",
    "    with tf.gfile.GFile(frozen_graph_filename, \"rb\") as f:\n",
    "        graph_def = tf.GraphDef()\n",
    "        graph_def.ParseFromString(f.read())\n",
    "        \n",
    "    return graph_def\n",
    "\n",
    "def load_graph(frozen_graph_filename):\n",
    "    # We import the graph_def into a new Graph and returns it \n",
    "    with tf.Graph().as_default() as graph:\n",
    "        # The name var will prefix every op/nodes in your graph\n",
    "        # Since we load everything in a new graph, this is not needed\n",
    "        tf.import_graph_def(load_graph_for_transform(frozen_graph_filename), name='')\n",
    "    return graph\n"
   ]
  },
  {
   "cell_type": "code",
   "execution_count": 3,
   "metadata": {},
   "outputs": [],
   "source": [
    "from tensorflow.tools.graph_transforms import TransformGraph\n",
    "from tensorflow.python.framework       import graph_io\n",
    "\n",
    "# Load the frozen graph\n",
    "graph = load_graph_for_transform('./models/keras_frozen_model.pb')\n",
    "\n",
    "# Transform it\n",
    "input_names = ['img_i_1', 'img_f_1']\n",
    "output_names = ['class_1/Sigmoid']\n",
    "transforms = ['strip_unused_nodes(type=float, shape=\"1,224,544,3\")',\n",
    "              'remove_nodes(op=Identity, op=CheckNumerics)',\n",
    "              'fold_constants(ignore_errors=true)',\n",
    "              'fold_batch_norms',\n",
    "              'fold_old_batch_norms',\n",
    "             ]\n",
    "\n",
    "G_opt = TransformGraph(graph, input_names, output_names, transforms)\n",
    "\n",
    "# Write it to disk\n",
    "with tf.gfile.GFile('./models/keras_opt_model.pb', \"wb\") as f:\n",
    "    f.write(G_opt.SerializeToString())\n"
   ]
  },
  {
   "cell_type": "markdown",
   "metadata": {},
   "source": [
    "#### Compare the number of operation before and after"
   ]
  },
  {
   "cell_type": "code",
   "execution_count": 4,
   "metadata": {
    "scrolled": true
   },
   "outputs": [
    {
     "name": "stdout",
     "output_type": "stream",
     "text": [
      "501\n"
     ]
    }
   ],
   "source": [
    "graph = load_graph('./models/keras_frozen_model.pb')\n",
    "\n",
    "print(len(graph.get_operations()))\n",
    "\n",
    "#for op in graph.get_operations():\n",
    "#    print(op.name)\n"
   ]
  },
  {
   "cell_type": "code",
   "execution_count": 5,
   "metadata": {},
   "outputs": [
    {
     "name": "stdout",
     "output_type": "stream",
     "text": [
      "293\n"
     ]
    }
   ],
   "source": [
    "graph = load_graph('./models/keras_opt_model.pb')\n",
    "#graph = load_graph('./keras_opt_model_V19.pb')\n",
    "\n",
    "print(len(graph.get_operations()))\n",
    "\n",
    "#for op in graph.get_operations():\n",
    "#    print(op.name)\n"
   ]
  },
  {
   "cell_type": "code",
   "execution_count": null,
   "metadata": {},
   "outputs": [],
   "source": []
  }
 ],
 "metadata": {
  "kernelspec": {
   "display_name": "Python 3",
   "language": "python",
   "name": "python3"
  },
  "language_info": {
   "codemirror_mode": {
    "name": "ipython",
    "version": 3
   },
   "file_extension": ".py",
   "mimetype": "text/x-python",
   "name": "python",
   "nbconvert_exporter": "python",
   "pygments_lexer": "ipython3",
   "version": "3.6.3"
  }
 },
 "nbformat": 4,
 "nbformat_minor": 2
}
